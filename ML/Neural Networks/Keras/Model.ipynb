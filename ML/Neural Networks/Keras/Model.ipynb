{
 "cells": [
  {
   "cell_type": "markdown",
   "id": "5dda0f1b-f4c4-4155-8cb2-b45fdfd07c51",
   "metadata": {},
   "source": [
    "## Model Summary"
   ]
  },
  {
   "cell_type": "code",
   "execution_count": 1,
   "id": "c3d50f02-b689-4b0d-96fc-5a25e6dfe44e",
   "metadata": {},
   "outputs": [
    {
     "name": "stdout",
     "output_type": "stream",
     "text": [
      "Model: \"sequential\"\n",
      "_________________________________________________________________\n",
      "Layer (type)                 Output Shape              Param #   \n",
      "=================================================================\n",
      "hidden_layer (Dense)         (None, 2)                 10        \n",
      "_________________________________________________________________\n",
      "output_layer (Dense)         (None, 1)                 3         \n",
      "=================================================================\n",
      "Total params: 13\n",
      "Trainable params: 13\n",
      "Non-trainable params: 0\n",
      "_________________________________________________________________\n"
     ]
    },
    {
     "name": "stderr",
     "output_type": "stream",
     "text": [
      "2025-01-15 20:43:08.475373: I tensorflow/compiler/jit/xla_cpu_device.cc:41] Not creating XLA devices, tf_xla_enable_xla_devices not set\n",
      "2025-01-15 20:43:08.483862: I tensorflow/core/platform/cpu_feature_guard.cc:142] This TensorFlow binary is optimized with oneAPI Deep Neural Network Library (oneDNN) to use the following CPU instructions in performance-critical operations:  SSE4.1 SSE4.2 AVX AVX2 FMA\n",
      "To enable them in other operations, rebuild TensorFlow with the appropriate compiler flags.\n",
      "2025-01-15 20:43:08.499887: I tensorflow/core/common_runtime/process_util.cc:146] Creating new thread pool with default inter op setting: 2. Tune using inter_op_parallelism_threads for best performance.\n"
     ]
    }
   ],
   "source": [
    "import numpy as np\n",
    "from tensorflow.keras.models import Sequential\n",
    "from tensorflow.keras.layers import Dense\n",
    "\n",
    "model = Sequential()\n",
    "\n",
    "model.add(Dense(2,activation='sigmoid',input_shape=(4,),use_bias=True,name='hidden_layer'))\n",
    "model.add(Dense(1,activation='sigmoid',use_bias=True,name='output_layer'))\n",
    "\n",
    "# model = Sequential([\n",
    "#     Dense(4, activation='relu', input_shape=(10,), name='hidden_layer'),\n",
    "#     Dense(2, activation='softmax', name='output_layer')\n",
    "# ])\n",
    "\n",
    "model.summary()"
   ]
  },
  {
   "cell_type": "markdown",
   "id": "dd3b001e-dab5-450b-b084-8ce967aa9eb7",
   "metadata": {},
   "source": [
    "## Layers Info"
   ]
  },
  {
   "cell_type": "code",
   "execution_count": 2,
   "id": "8da8b66e-5c46-4781-ab76-a83ac87b8c81",
   "metadata": {},
   "outputs": [
    {
     "name": "stdout",
     "output_type": "stream",
     "text": [
      "\n",
      "Layer Name: hidden_layer\n",
      "Layer Type: <class 'tensorflow.python.keras.layers.core.Dense'>\n",
      "Input Shape: (None, 4)\n",
      "Output Shape: (None, 2)\n",
      "Number of Parameters: 10\n",
      "Layer Config: {'name': 'hidden_layer', 'trainable': True, 'batch_input_shape': (None, 4), 'dtype': 'float32', 'units': 2, 'activation': 'sigmoid', 'use_bias': True, 'kernel_initializer': {'class_name': 'GlorotUniform', 'config': {'seed': None}}, 'bias_initializer': {'class_name': 'Zeros', 'config': {}}, 'kernel_regularizer': None, 'bias_regularizer': None, 'activity_regularizer': None, 'kernel_constraint': None, 'bias_constraint': None}\n",
      "\n",
      "Layer Name: output_layer\n",
      "Layer Type: <class 'tensorflow.python.keras.layers.core.Dense'>\n",
      "Input Shape: (None, 2)\n",
      "Output Shape: (None, 1)\n",
      "Number of Parameters: 3\n",
      "Layer Config: {'name': 'output_layer', 'trainable': True, 'dtype': 'float32', 'units': 1, 'activation': 'sigmoid', 'use_bias': True, 'kernel_initializer': {'class_name': 'GlorotUniform', 'config': {'seed': None}}, 'bias_initializer': {'class_name': 'Zeros', 'config': {}}, 'kernel_regularizer': None, 'bias_regularizer': None, 'activity_regularizer': None, 'kernel_constraint': None, 'bias_constraint': None}\n"
     ]
    }
   ],
   "source": [
    "for layer in model.layers:\n",
    "    print(f\"\\nLayer Name: {layer.name}\")\n",
    "    print(f\"Layer Type: {type(layer)}\")\n",
    "    print(f\"Input Shape: {layer.input_shape}\")\n",
    "    print(f\"Output Shape: {layer.output_shape}\")\n",
    "    print(f\"Number of Parameters: {layer.count_params()}\")\n",
    "    print(f\"Layer Config: {layer.get_config()}\")"
   ]
  },
  {
   "cell_type": "markdown",
   "id": "7be803c0-cafa-49a0-a403-2056a1e83e85",
   "metadata": {},
   "source": [
    "## Access Layers"
   ]
  },
  {
   "cell_type": "code",
   "execution_count": 3,
   "id": "f1b738c8-fe89-48fa-80e2-c347ca3b02b1",
   "metadata": {},
   "outputs": [
    {
     "name": "stdout",
     "output_type": "stream",
     "text": [
      "F\n",
      "irst Layer Name: hidden_layer\n",
      "First Layer Config: {'name': 'hidden_layer', 'trainable': True, 'batch_input_shape': (None, 4), 'dtype': 'float32', 'units': 2, 'activation': 'sigmoid', 'use_bias': True, 'kernel_initializer': {'class_name': 'GlorotUniform', 'config': {'seed': None}}, 'bias_initializer': {'class_name': 'Zeros', 'config': {}}, 'kernel_regularizer': None, 'bias_regularizer': None, 'activity_regularizer': None, 'kernel_constraint': None, 'bias_constraint': None}\n",
      "\n",
      "Specific Layer Output Shape: <class 'tensorflow.python.keras.layers.core.Dense'>\n"
     ]
    }
   ],
   "source": [
    "# Access layer by index\n",
    "first_layer = model.layers[0]\n",
    "print(f\"F\\nirst Layer Name: {first_layer.name}\")\n",
    "print(f\"First Layer Config: {first_layer.get_config()}\")\n",
    "\n",
    "# Access layer by name\n",
    "specific_layer = model.get_layer(name='hidden_layer')\n",
    "print(f\"\\nSpecific Layer Output Shape: {type(specific_layer)}\")\n"
   ]
  },
  {
   "cell_type": "markdown",
   "id": "ee406639-4620-43e4-a5c3-9d9bd643f45f",
   "metadata": {},
   "source": [
    "## Set Weights"
   ]
  },
  {
   "cell_type": "code",
   "execution_count": 4,
   "id": "7d8b87d5-b5c3-4f00-883d-91ebbdadfcf9",
   "metadata": {},
   "outputs": [],
   "source": [
    "Wxh = np.array([[0.1, 0.5],[0.2, 0.6],[0.3, 0.7],[0.4, 0.8]])\n",
    "Why = np.array([[0.9],[1.0]])\n",
    "\n",
    "bh = np.array([0.1, 0.2]) ## bias should be 1D for adding weights\n",
    "by = np.array([0.3])\n",
    "\n",
    "model.layers[0].set_weights([Wxh,bh])\n",
    "model.layers[1].set_weights([Why,by])"
   ]
  },
  {
   "cell_type": "markdown",
   "id": "6b96fa8b-1598-47e6-9cd6-1b6e1056ced4",
   "metadata": {},
   "source": [
    "## Get Weights"
   ]
  },
  {
   "cell_type": "code",
   "execution_count": 5,
   "id": "1ea96069-7201-44b3-98ab-b7cefebfcf37",
   "metadata": {},
   "outputs": [
    {
     "name": "stdout",
     "output_type": "stream",
     "text": [
      "Hidden layer weights and biases: [array([[0.1, 0.5],\n",
      "       [0.2, 0.6],\n",
      "       [0.3, 0.7],\n",
      "       [0.4, 0.8]], dtype=float32), array([0.1, 0.2], dtype=float32)]\n",
      "Output layer weights and biases: [array([[0.9],\n",
      "       [1. ]], dtype=float32), array([0.3], dtype=float32)]\n"
     ]
    }
   ],
   "source": [
    "print(\"Hidden layer weights and biases:\", model.layers[0].get_weights())\n",
    "print(\"Output layer weights and biases:\", model.layers[1].get_weights())"
   ]
  },
  {
   "cell_type": "code",
   "execution_count": null,
   "id": "8e751709-883f-4b2e-82ec-ff499ee3bdac",
   "metadata": {},
   "outputs": [],
   "source": []
  }
 ],
 "metadata": {
  "kernelspec": {
   "display_name": "Python (myenv)",
   "language": "python",
   "name": "myenv"
  },
  "language_info": {
   "codemirror_mode": {
    "name": "ipython",
    "version": 3
   },
   "file_extension": ".py",
   "mimetype": "text/x-python",
   "name": "python",
   "nbconvert_exporter": "python",
   "pygments_lexer": "ipython3",
   "version": "3.8.20"
  }
 },
 "nbformat": 4,
 "nbformat_minor": 5
}
