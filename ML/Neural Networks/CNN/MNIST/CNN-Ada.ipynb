{
 "cells": [
  {
   "cell_type": "code",
   "execution_count": 1,
   "id": "2d6f42ea-f717-4889-87cb-c5c525ffbeec",
   "metadata": {},
   "outputs": [],
   "source": [
    "import numpy as np\n",
    "import matplotlib.pyplot as plt\n",
    "from tensorflow.keras.datasets import mnist\n",
    "from keras.layers import Dense, Flatten, Conv2D, MaxPooling2D\n",
    "from keras.models import Sequential, Model\n",
    "from sklearn.ensemble import AdaBoostClassifier\n",
    "from sklearn.tree import DecisionTreeClassifier\n",
    "from sklearn.metrics import accuracy_score\n",
    "import warnings\n",
    "warnings.filterwarnings(\"ignore\")"
   ]
  },
  {
   "cell_type": "code",
   "execution_count": 2,
   "id": "11613c48-6078-4236-910b-fd05abf1641c",
   "metadata": {},
   "outputs": [],
   "source": [
    "(X_train, y_train), (X_test, y_test) = mnist.load_data()"
   ]
  },
  {
   "cell_type": "code",
   "execution_count": 3,
   "id": "f1b9cd97-898e-4e4a-b042-eac0d8cc1ac6",
   "metadata": {},
   "outputs": [],
   "source": [
    "# X_train = X_train.reshape(X_train.shape[0],28,28,1)\n",
    "# X_test = X_test.reshape(X_test.shape[0],28,28,1)"
   ]
  },
  {
   "cell_type": "code",
   "execution_count": 4,
   "id": "8c5a898a-3a8a-4f98-8a38-054dbe479f52",
   "metadata": {},
   "outputs": [],
   "source": [
    "X_train = X_train / 255.0\n",
    "X_test = X_test / 255.0"
   ]
  },
  {
   "cell_type": "code",
   "execution_count": 5,
   "id": "6b158251-60b0-415c-b315-49c4111266f4",
   "metadata": {},
   "outputs": [],
   "source": [
    "X_train = np.expand_dims(X_train, axis=-1)\n",
    "X_test = np.expand_dims(X_test, axis=-1)"
   ]
  },
  {
   "cell_type": "code",
   "execution_count": 6,
   "id": "2ba48078-333f-455f-8bef-5bd8fa4b6ff9",
   "metadata": {},
   "outputs": [],
   "source": [
    "model = Sequential([\n",
    "    Conv2D(32, (3,3), activation='relu', input_shape=(28,28,1)),\n",
    "    MaxPooling2D((2,2)),\n",
    "    Flatten(),\n",
    "    Dense(128, activation='relu'),\n",
    "    Dense(10, activation='softmax'),\n",
    "])"
   ]
  },
  {
   "cell_type": "code",
   "execution_count": 7,
   "id": "5f13b12d-afdc-4b0e-aa9c-03cf567c0002",
   "metadata": {},
   "outputs": [],
   "source": [
    "model.compile(optimizer='adam', loss='sparse_categorical_crossentropy', metrics=['accuracy'])"
   ]
  },
  {
   "cell_type": "code",
   "execution_count": 8,
   "id": "0f0a3735-106e-4632-82de-5bd03b7807d0",
   "metadata": {},
   "outputs": [
    {
     "name": "stdout",
     "output_type": "stream",
     "text": [
      "Epoch 1/3\n",
      "938/938 [==============================] - 12s 8ms/step - loss: 0.1778 - accuracy: 0.9486 - val_loss: 0.0764 - val_accuracy: 0.9769\n",
      "Epoch 2/3\n",
      "938/938 [==============================] - 7s 7ms/step - loss: 0.0598 - accuracy: 0.9821 - val_loss: 0.0534 - val_accuracy: 0.9819\n",
      "Epoch 3/3\n",
      "938/938 [==============================] - 7s 7ms/step - loss: 0.0393 - accuracy: 0.9879 - val_loss: 0.0483 - val_accuracy: 0.9841\n"
     ]
    },
    {
     "data": {
      "text/plain": [
       "<keras.callbacks.History at 0x25a063e2850>"
      ]
     },
     "execution_count": 8,
     "metadata": {},
     "output_type": "execute_result"
    }
   ],
   "source": [
    "model.fit(X_train, y_train, epochs=3, batch_size=64, validation_data=(X_test, y_test))"
   ]
  },
  {
   "cell_type": "code",
   "execution_count": 9,
   "id": "bd6b9659-7a4c-42f6-aaaa-2683832b9a6f",
   "metadata": {},
   "outputs": [],
   "source": [
    "feature_extractor = Model(inputs=model.input, outputs=model.layers[-2].output)"
   ]
  },
  {
   "cell_type": "code",
   "execution_count": 10,
   "id": "40cba1f4-d1a3-40a8-b606-3a6940e89139",
   "metadata": {},
   "outputs": [
    {
     "name": "stdout",
     "output_type": "stream",
     "text": [
      "1875/1875 [==============================] - 3s 1ms/step\n",
      "313/313 [==============================] - 1s 1ms/step\n"
     ]
    }
   ],
   "source": [
    "X_train_features = feature_extractor.predict(X_train)\n",
    "X_test_features = feature_extractor.predict(X_test)"
   ]
  },
  {
   "cell_type": "code",
   "execution_count": 11,
   "id": "1f98bb5d-f3a7-4cb3-86ca-21fee38c32d0",
   "metadata": {},
   "outputs": [],
   "source": [
    "ada = AdaBoostClassifier(DecisionTreeClassifier(max_depth=1), n_estimators=50)"
   ]
  },
  {
   "cell_type": "code",
   "execution_count": 12,
   "id": "0b10a1f2-75c9-44c3-b6d8-781fd90985a9",
   "metadata": {},
   "outputs": [],
   "source": [
    "from sklearn.model_selection import KFold, cross_val_score\n",
    "kfold = KFold(n_splits=5)\n",
    "cv_scores = cross_val_score(ada, X_train_features, y_train, cv=kfold, scoring='accuracy')"
   ]
  },
  {
   "cell_type": "code",
   "execution_count": 13,
   "id": "3dda20ca-e306-4326-ad9c-e14285c3eb67",
   "metadata": {},
   "outputs": [
    {
     "name": "stdout",
     "output_type": "stream",
     "text": [
      "Cross-validation scores: [0.95358333 0.82441667 0.95291667 0.89058333 0.89633333]\n",
      "Average cross-validation score: 0.9035666666666666\n"
     ]
    }
   ],
   "source": [
    "print(f\"Cross-validation scores: {cv_scores}\")\n",
    "print(f\"Average cross-validation score: {np.mean(cv_scores)}\")"
   ]
  },
  {
   "cell_type": "code",
   "execution_count": 14,
   "id": "4a5044d8-e4d1-40c9-b399-29fb960218cb",
   "metadata": {},
   "outputs": [],
   "source": [
    "ada.fit(X_train_features, y_train)\n",
    "y_pred = ada.predict(X_test_features)"
   ]
  },
  {
   "cell_type": "code",
   "execution_count": 15,
   "id": "23cee483-7cdc-49a8-b385-b32f1a8554da",
   "metadata": {},
   "outputs": [
    {
     "name": "stdout",
     "output_type": "stream",
     "text": [
      "Boosted Model Accuracy: 0.9508\n"
     ]
    }
   ],
   "source": [
    "print(\"Boosted Model Accuracy:\", accuracy_score(y_test, y_pred))"
   ]
  }
 ],
 "metadata": {
  "kernelspec": {
   "display_name": "Python 3 (ipykernel)",
   "language": "python",
   "name": "python3"
  },
  "language_info": {
   "codemirror_mode": {
    "name": "ipython",
    "version": 3
   },
   "file_extension": ".py",
   "mimetype": "text/x-python",
   "name": "python",
   "nbconvert_exporter": "python",
   "pygments_lexer": "ipython3",
   "version": "3.9.21"
  }
 },
 "nbformat": 4,
 "nbformat_minor": 5
}
