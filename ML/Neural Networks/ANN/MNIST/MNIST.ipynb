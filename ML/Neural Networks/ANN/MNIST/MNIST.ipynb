{
 "cells": [
  {
   "cell_type": "markdown",
   "id": "b799d012-998a-4590-a993-0131191d233b",
   "metadata": {},
   "source": [
    "# Implementing ANN from Scratch On MNIST Dataset"
   ]
  },
  {
   "cell_type": "code",
   "execution_count": 1,
   "id": "acfff7e8-04ec-48ba-9bf4-3b1028593d64",
   "metadata": {},
   "outputs": [],
   "source": [
    "import numpy as np\n",
    "from tensorflow.keras.datasets import mnist\n",
    "import matplotlib.pyplot as plt\n",
    "import warnings\n",
    "warnings.filterwarnings(\"ignore\")"
   ]
  },
  {
   "cell_type": "code",
   "execution_count": 2,
   "id": "297ea139-9820-415d-9531-3cfcb7a2adea",
   "metadata": {},
   "outputs": [],
   "source": [
    "def relu(x):\n",
    "    return np.maximum(0, x)\n",
    "\n",
    "def relu_derivative(x):\n",
    "    return x>0\n",
    "\n",
    "def softmax(x):\n",
    "    return np.exp(x) / np.sum(np.exp(x), axis=1, keepdims=True)\n",
    "    \n",
    "def one_hot(Y):\n",
    "    return np.eye(Y.max() + 1)[Y]"
   ]
  },
  {
   "cell_type": "code",
   "execution_count": 3,
   "id": "0d1f8fe0-6351-4eae-8a0b-96c841db3666",
   "metadata": {},
   "outputs": [],
   "source": [
    "(X_train, y_train), (X_test, y_test) = mnist.load_data()"
   ]
  },
  {
   "cell_type": "code",
   "execution_count": 4,
   "id": "0205f851-8997-4e2c-b275-eca7896edd0f",
   "metadata": {},
   "outputs": [
    {
     "data": {
      "text/plain": [
       "<matplotlib.image.AxesImage at 0x7388069e2fd0>"
      ]
     },
     "execution_count": 4,
     "metadata": {},
     "output_type": "execute_result"
    },
    {
     "data": {
      "image/png": "[encoded data removed]",
      "text/plain": [
       "<Figure size 640x480 with 1 Axes>"
      ]
     },
     "metadata": {},
     "output_type": "display_data"
    }
   ],
   "source": [
    "plt.imshow(X_train[0],cmap = 'gray')"
   ]
  },
  {
   "cell_type": "code",
   "execution_count": 5,
   "id": "db060c42-86e4-47e6-bc30-7ad6cec25c41",
   "metadata": {},
   "outputs": [],
   "source": [
    "X_train = X_train.reshape(X_train.shape[0], 28*28)\n",
    "X_test = X_test.reshape(X_test.shape[0], 28*28)"
   ]
  },
  {
   "cell_type": "code",
   "execution_count": 6,
   "id": "0058d332-13ad-4ae3-91e7-9d447df6c4f8",
   "metadata": {},
   "outputs": [],
   "source": [
    "X_train = X_train / 255.0\n",
    "X_test = X_test / 255.0"
   ]
  },
  {
   "cell_type": "code",
   "execution_count": 7,
   "id": "b1d00d43-568f-4d79-98d9-63d39f9ad270",
   "metadata": {},
   "outputs": [],
   "source": [
    "y_train = one_hot(y_train)\n",
    "y_test = one_hot(y_test)"
   ]
  },
  {
   "cell_type": "code",
   "execution_count": 8,
   "id": "9c98c078-88c4-4d3c-bc41-232e17c65209",
   "metadata": {},
   "outputs": [],
   "source": [
    "input_size = 784\n",
    "hidden_size = 64\n",
    "output_size = 10\n",
    "\n",
    "Wxh = np.random.rand(input_size, hidden_size) - 0.5\n",
    "Why = np.random.rand(hidden_size, output_size) - 0.5\n",
    "bh = np.random.rand(1, hidden_size) - 0.5\n",
    "by = np.random.rand(1, output_size) - 0.5"
   ]
  },
  {
   "cell_type": "code",
   "execution_count": 9,
   "id": "adb54ff6-5b56-4db2-bda6-cca8c3844438",
   "metadata": {},
   "outputs": [],
   "source": [
    "def forward_prop(X,Wxh,bh,Why,by):\n",
    "    zi = np.dot(X,Wxh) + bh\n",
    "    ai = relu(zi)\n",
    "    zo = np.dot(ai,Why) + by\n",
    "    yo = softmax(zo)\n",
    "    return yo, zi, ai, zo"
   ]
  },
  {
   "cell_type": "code",
   "execution_count": 10,
   "id": "611c344c-979e-4192-8aab-68c5cb5477b0",
   "metadata": {},
   "outputs": [],
   "source": [
    "def backward_prop(X,y,zi,ai,zo,yo,Wxh,Why):\n",
    "    m = X.shape[0]\n",
    "    delta2 = yo - y\n",
    "    \n",
    "    dJ_dWhy = np.dot(ai.T, delta2) / m\n",
    "    dJ_dby = np.sum(delta2, axis=0, keepdims=True) / m\n",
    "    \n",
    "    delta1 = np.dot(delta2, Why.T) * relu_derivative(zi)\n",
    "    \n",
    "    dJ_dWxh = np.dot(X.T, delta1) / m\n",
    "    dJ_dbh = np.sum(delta1, axis=0, keepdims=True) / m\n",
    "    return dJ_dWxh, dJ_dWhy, dJ_dbh, dJ_dby"
   ]
  },
  {
   "cell_type": "code",
   "execution_count": 11,
   "id": "63d18d70-df83-490d-b2bf-d0ecfb124bd9",
   "metadata": {},
   "outputs": [
    {
     "name": "stdout",
     "output_type": "stream",
     "text": [
      "Epoch 1, Loss: 5.219, Accuracy: 12.71%\n",
      "Epoch 2, Loss: 4.118, Accuracy: 11.90%\n",
      "Epoch 3, Loss: 3.551, Accuracy: 17.19%\n",
      "Epoch 4, Loss: 3.214, Accuracy: 21.22%\n",
      "Epoch 5, Loss: 2.942, Accuracy: 24.75%\n",
      "Epoch 6, Loss: 2.715, Accuracy: 28.16%\n",
      "Epoch 7, Loss: 2.523, Accuracy: 31.15%\n",
      "Epoch 8, Loss: 2.359, Accuracy: 33.99%\n",
      "Epoch 9, Loss: 2.217, Accuracy: 36.66%\n",
      "Epoch 10, Loss: 2.093, Accuracy: 39.12%\n",
      "Epoch 11, Loss: 1.985, Accuracy: 41.41%\n",
      "Epoch 12, Loss: 1.890, Accuracy: 43.58%\n",
      "Epoch 13, Loss: 1.805, Accuracy: 45.54%\n",
      "Epoch 14, Loss: 1.730, Accuracy: 47.37%\n",
      "Epoch 15, Loss: 1.663, Accuracy: 49.11%\n",
      "Epoch 16, Loss: 1.602, Accuracy: 50.72%\n",
      "Epoch 17, Loss: 1.547, Accuracy: 52.16%\n",
      "Epoch 18, Loss: 1.497, Accuracy: 53.54%\n",
      "Epoch 19, Loss: 1.451, Accuracy: 54.75%\n",
      "Epoch 20, Loss: 1.409, Accuracy: 55.93%\n",
      "Epoch 21, Loss: 1.370, Accuracy: 57.08%\n",
      "Epoch 22, Loss: 1.334, Accuracy: 58.14%\n",
      "Epoch 23, Loss: 1.301, Accuracy: 59.17%\n",
      "Epoch 24, Loss: 1.270, Accuracy: 60.11%\n",
      "Epoch 25, Loss: 1.241, Accuracy: 60.96%\n",
      "Epoch 26, Loss: 1.215, Accuracy: 61.75%\n",
      "Epoch 27, Loss: 1.189, Accuracy: 62.46%\n",
      "Epoch 28, Loss: 1.166, Accuracy: 63.15%\n",
      "Epoch 29, Loss: 1.143, Accuracy: 63.80%\n",
      "Epoch 30, Loss: 1.123, Accuracy: 64.38%\n",
      "Epoch 31, Loss: 1.103, Accuracy: 65.02%\n",
      "Epoch 32, Loss: 1.084, Accuracy: 65.57%\n",
      "Epoch 33, Loss: 1.066, Accuracy: 66.09%\n",
      "Epoch 34, Loss: 1.049, Accuracy: 66.64%\n",
      "Epoch 35, Loss: 1.033, Accuracy: 67.11%\n",
      "Epoch 36, Loss: 1.018, Accuracy: 67.60%\n",
      "Epoch 37, Loss: 1.004, Accuracy: 68.03%\n",
      "Epoch 38, Loss: 0.990, Accuracy: 68.49%\n",
      "Epoch 39, Loss: 0.977, Accuracy: 68.93%\n",
      "Epoch 40, Loss: 0.964, Accuracy: 69.30%\n",
      "Epoch 41, Loss: 0.952, Accuracy: 69.69%\n",
      "Epoch 42, Loss: 0.940, Accuracy: 70.05%\n",
      "Epoch 43, Loss: 0.929, Accuracy: 70.41%\n",
      "Epoch 44, Loss: 0.918, Accuracy: 70.77%\n",
      "Epoch 45, Loss: 0.908, Accuracy: 71.07%\n",
      "Epoch 46, Loss: 0.898, Accuracy: 71.37%\n",
      "Epoch 47, Loss: 0.888, Accuracy: 71.72%\n",
      "Epoch 48, Loss: 0.879, Accuracy: 71.98%\n",
      "Epoch 49, Loss: 0.870, Accuracy: 72.29%\n",
      "Epoch 50, Loss: 0.862, Accuracy: 72.59%\n",
      "Epoch 51, Loss: 0.853, Accuracy: 72.88%\n",
      "Epoch 52, Loss: 0.845, Accuracy: 73.14%\n",
      "Epoch 53, Loss: 0.838, Accuracy: 73.38%\n",
      "Epoch 54, Loss: 0.830, Accuracy: 73.63%\n",
      "Epoch 55, Loss: 0.823, Accuracy: 73.91%\n",
      "Epoch 56, Loss: 0.816, Accuracy: 74.14%\n",
      "Epoch 57, Loss: 0.809, Accuracy: 74.37%\n",
      "Epoch 58, Loss: 0.802, Accuracy: 74.59%\n",
      "Epoch 59, Loss: 0.796, Accuracy: 74.79%\n",
      "Epoch 60, Loss: 0.790, Accuracy: 74.98%\n",
      "Epoch 61, Loss: 0.783, Accuracy: 75.17%\n",
      "Epoch 62, Loss: 0.778, Accuracy: 75.37%\n",
      "Epoch 63, Loss: 0.772, Accuracy: 75.56%\n",
      "Epoch 64, Loss: 0.766, Accuracy: 75.74%\n",
      "Epoch 65, Loss: 0.761, Accuracy: 75.93%\n",
      "Epoch 66, Loss: 0.755, Accuracy: 76.09%\n",
      "Epoch 67, Loss: 0.750, Accuracy: 76.28%\n",
      "Epoch 68, Loss: 0.745, Accuracy: 76.42%\n",
      "Epoch 69, Loss: 0.740, Accuracy: 76.55%\n",
      "Epoch 70, Loss: 0.735, Accuracy: 76.71%\n",
      "Epoch 71, Loss: 0.731, Accuracy: 76.87%\n",
      "Epoch 72, Loss: 0.726, Accuracy: 77.01%\n",
      "Epoch 73, Loss: 0.721, Accuracy: 77.13%\n",
      "Epoch 74, Loss: 0.717, Accuracy: 77.26%\n",
      "Epoch 75, Loss: 0.713, Accuracy: 77.40%\n",
      "Epoch 76, Loss: 0.709, Accuracy: 77.50%\n",
      "Epoch 77, Loss: 0.704, Accuracy: 77.65%\n",
      "Epoch 78, Loss: 0.700, Accuracy: 77.78%\n",
      "Epoch 79, Loss: 0.697, Accuracy: 77.92%\n",
      "Epoch 80, Loss: 0.693, Accuracy: 78.02%\n",
      "Epoch 81, Loss: 0.689, Accuracy: 78.13%\n",
      "Epoch 82, Loss: 0.685, Accuracy: 78.23%\n",
      "Epoch 83, Loss: 0.682, Accuracy: 78.39%\n",
      "Epoch 84, Loss: 0.678, Accuracy: 78.51%\n",
      "Epoch 85, Loss: 0.675, Accuracy: 78.63%\n",
      "Epoch 86, Loss: 0.671, Accuracy: 78.74%\n",
      "Epoch 87, Loss: 0.668, Accuracy: 78.85%\n",
      "Epoch 88, Loss: 0.664, Accuracy: 78.97%\n",
      "Epoch 89, Loss: 0.661, Accuracy: 79.04%\n",
      "Epoch 90, Loss: 0.658, Accuracy: 79.14%\n",
      "Epoch 91, Loss: 0.655, Accuracy: 79.24%\n",
      "Epoch 92, Loss: 0.652, Accuracy: 79.33%\n",
      "Epoch 93, Loss: 0.649, Accuracy: 79.45%\n",
      "Epoch 94, Loss: 0.646, Accuracy: 79.57%\n",
      "Epoch 95, Loss: 0.643, Accuracy: 79.67%\n",
      "Epoch 96, Loss: 0.640, Accuracy: 79.77%\n",
      "Epoch 97, Loss: 0.637, Accuracy: 79.85%\n",
      "Epoch 98, Loss: 0.635, Accuracy: 79.94%\n",
      "Epoch 99, Loss: 0.632, Accuracy: 80.02%\n",
      "Epoch 100, Loss: 0.629, Accuracy: 80.11%\n"
     ]
    }
   ],
   "source": [
    "alpha = 0.1\n",
    "epochs = 100\n",
    "cost = []\n",
    "\n",
    "for epoch in range(epochs):\n",
    "    yo, zi, ai, zo = forward_prop(X_train,Wxh,bh,Why,by)\n",
    "    dJ_dWxh, dJ_dWhy, dJ_dbh, dJ_dby = backward_prop(X_train,y_train,zi,ai,zo,yo,Wxh,Why)\n",
    "\n",
    "    Wxh -= alpha * dJ_dWxh\n",
    "    bh -= alpha * dJ_dbh\n",
    "    Why -= alpha * dJ_dWhy\n",
    "    by -= alpha * dJ_dby\n",
    "\n",
    "    loss = -np.sum(y_train * np.log(yo + 1e-8)) / y_train.shape[0]\n",
    "    cost.append(loss)\n",
    "    y_pred = np.argmax(yo, axis=1)\n",
    "    y = np.argmax(y_train, axis=1)\n",
    "    accuracy = np.mean(y_pred == y) * 100\n",
    "\n",
    "    print(f\"Epoch {epoch + 1}, Loss: {loss:.3f}, Accuracy: {accuracy:.2f}%\")"
   ]
  },
  {
   "cell_type": "code",
   "execution_count": 12,
   "id": "4c3c9854-d383-4f0b-80fb-45a5136f1f7a",
   "metadata": {},
   "outputs": [
    {
     "data": {
      "image/png": "[encoded data removed]",
      "text/plain": [
       "<Figure size 640x480 with 1 Axes>"
      ]
     },
     "metadata": {},
     "output_type": "display_data"
    }
   ],
   "source": [
    "plt.plot(range(epochs), cost)\n",
    "plt.title('Cost Function')\n",
    "plt.xlabel('Epochs')\n",
    "plt.ylabel('Cost')\n",
    "plt.grid()\n",
    "plt.show()"
   ]
  },
  {
   "cell_type": "code",
   "execution_count": 13,
   "id": "77c4a6ae-a4e4-4d07-b39f-3a488e9ece65",
   "metadata": {},
   "outputs": [],
   "source": [
    "def predict(X,Wxh,bh,Why,by):\n",
    "    yo, zi, ai, zo = forward_prop(X,Wxh,bh,Why,by)\n",
    "    return np.argmax(yo, axis=1)"
   ]
  },
  {
   "cell_type": "code",
   "execution_count": 14,
   "id": "5dd84dc2-ab77-462d-9b2c-910288d6b56a",
   "metadata": {},
   "outputs": [
    {
     "data": {
      "text/plain": [
       "array([7])"
      ]
     },
     "execution_count": 14,
     "metadata": {},
     "output_type": "execute_result"
    }
   ],
   "source": [
    "predict(X_test[0],Wxh,bh,Why,by)"
   ]
  },
  {
   "cell_type": "code",
   "execution_count": 15,
   "id": "09a58226-3c19-4adb-bb32-a9e01ed36537",
   "metadata": {},
   "outputs": [
    {
     "data": {
      "text/plain": [
       "<matplotlib.image.AxesImage at 0x7388069568e0>"
      ]
     },
     "execution_count": 15,
     "metadata": {},
     "output_type": "execute_result"
    },
    {
     "data": {
      "image/png": "[encoded data removed]",
      "text/plain": [
       "<Figure size 640x480 with 1 Axes>"
      ]
     },
     "metadata": {},
     "output_type": "display_data"
    }
   ],
   "source": [
    "plt.imshow(X_test[0].reshape(28,28),cmap = 'gray')"
   ]
  }
 ],
 "metadata": {
  "kernelspec": {
   "display_name": "Python (myenv)",
   "language": "python",
   "name": "myenv"
  },
  "language_info": {
   "codemirror_mode": {
    "name": "ipython",
    "version": 3
   },
   "file_extension": ".py",
   "mimetype": "text/x-python",
   "name": "python",
   "nbconvert_exporter": "python",
   "pygments_lexer": "ipython3",
   "version": "3.8.20"
  }
 },
 "nbformat": 4,
 "nbformat_minor": 5
}
